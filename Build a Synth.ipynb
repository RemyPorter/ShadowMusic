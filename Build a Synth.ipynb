{
 "cells": [
  {
   "cell_type": "markdown",
   "metadata": {
    "slideshow": {
     "slide_type": "slide"
    }
   },
   "source": [
    "# Build a Synth in Five Lines (of your own code)\n",
    "## About\n",
    "* Remy Porter\n",
    "* \"Creative Coder\" @ Iontank\n",
    "* Amateur Violinist\n",
    "* Incredibly Lazy"
   ]
  },
  {
   "cell_type": "markdown",
   "metadata": {
    "slideshow": {
     "slide_type": "slide"
    }
   },
   "source": [
    "# A Lesson in False Advertising\n",
    "* I didn't actually count the lines\n",
    "* There will be more than five\n",
    "* You don't actually NEED five\n",
    "* Counting lines of code is silly"
   ]
  },
  {
   "cell_type": "markdown",
   "metadata": {
    "slideshow": {
     "slide_type": "subslide"
    }
   },
   "source": [
    "## The Rules\n",
    "### Dependencies\n",
    "* NumPy and SoundDevice (and MatPlotLib for graphs)\n",
    "\n",
    "### The Code\n",
    "* Short methods, mostly 1-2 liners\n",
    "* You could, in theory, \"type along\" with the presentation\n",
    "\n",
    "### The Goal\n",
    "* Something sounding musical-ish\n",
    "* An understanding of digital-audio synthesis\n",
    "* An inducement to go hack some weird code together"
   ]
  },
  {
   "cell_type": "code",
   "execution_count": 1,
   "metadata": {
    "slideshow": {
     "slide_type": "subslide"
    }
   },
   "outputs": [],
   "source": [
    "## Three Line Synthesis\n",
    "import numpy as np\n",
    "import sounddevice as sd\n",
    "sd.play(np.sin(np.mgrid[0:44100]/44100 * 2 * np.pi * 440))"
   ]
  },
  {
   "cell_type": "markdown",
   "metadata": {
    "slideshow": {
     "slide_type": "slide"
    }
   },
   "source": [
    "# Doing Cool Things Should be Fun and Easy"
   ]
  },
  {
   "cell_type": "markdown",
   "metadata": {
    "slideshow": {
     "slide_type": "slide"
    }
   },
   "source": [
    "# What Is Music?"
   ]
  }
 ],
 "metadata": {
  "celltoolbar": "Slideshow",
  "kernelspec": {
   "display_name": "Python 3",
   "language": "python",
   "name": "python3"
  },
  "language_info": {
   "codemirror_mode": {
    "name": "ipython",
    "version": 3
   },
   "file_extension": ".py",
   "mimetype": "text/x-python",
   "name": "python",
   "nbconvert_exporter": "python",
   "pygments_lexer": "ipython3",
   "version": "3.7.3"
  }
 },
 "nbformat": 4,
 "nbformat_minor": 2
}
